{
 "cells": [
  {
   "cell_type": "markdown",
   "metadata": {
    "id": "iR3kIFpgK9SY"
   },
   "source": [
    "CS 403/603 Machine Learning\n"
   ]
  },
  {
   "cell_type": "markdown",
   "metadata": {
    "id": "PBg38YJcLJnw"
   },
   "source": [
    "Lab: 08-01-2021\n"
   ]
  },
  {
   "cell_type": "markdown",
   "metadata": {},
   "source": [
    "Linear Regression: Gradient Descent"
   ]
  },
  {
   "cell_type": "code",
   "execution_count": 1,
   "metadata": {
    "id": "pBQmS6GcLOAK"
   },
   "outputs": [],
   "source": [
    "import matplotlib.pyplot as plt \n",
    "plt.style.use('ggplot')\n",
    "%matplotlib inline"
   ]
  },
  {
   "cell_type": "code",
   "execution_count": 2,
   "metadata": {
    "id": "xn3QkhN4LYcP"
   },
   "outputs": [],
   "source": [
    "import numpy as np\n",
    "import pandas as pd  \n",
    "import seaborn as sns \n",
    "plt.rcParams['figure.figsize'] = (12, 8)"
   ]
  },
  {
   "cell_type": "code",
   "execution_count": 117,
   "metadata": {
    "id": "vQJFYW4UK_PC"
   },
   "outputs": [],
   "source": [
    "X = np.array([[2104, 3],[1600, 3],[2400, 3], [1416, 2], [3000, 4]], dtype=np.float64)"
   ]
  },
  {
   "cell_type": "code",
   "execution_count": 118,
   "metadata": {
    "id": "go-i1x7QNu96"
   },
   "outputs": [],
   "source": [
    "y = np.array([399900, 329900, 369000, 232000, 539900], dtype=np.float64)"
   ]
  },
  {
   "cell_type": "code",
   "execution_count": 119,
   "metadata": {
    "id": "OfmUy-QfOSiP"
   },
   "outputs": [],
   "source": [
    "y = y[:,np.newaxis]"
   ]
  },
  {
   "cell_type": "code",
   "execution_count": 120,
   "metadata": {
    "colab": {
     "base_uri": "https://localhost:8080/"
    },
    "id": "wJFImSGxN1He",
    "outputId": "b25b7cd4-9ab3-4226-a29c-2f41a1ad86b0"
   },
   "outputs": [
    {
     "data": {
      "text/plain": [
       "(5, 1)"
      ]
     },
     "execution_count": 120,
     "metadata": {},
     "output_type": "execute_result"
    }
   ],
   "source": [
    "y.shape"
   ]
  },
  {
   "cell_type": "code",
   "execution_count": 121,
   "metadata": {
    "colab": {
     "base_uri": "https://localhost:8080/"
    },
    "id": "1VvDPB8MLr-3",
    "outputId": "7f453d6f-eb96-45c0-d040-c0838f1c1ac5"
   },
   "outputs": [
    {
     "name": "stdout",
     "output_type": "stream",
     "text": [
      "(5, 2)\n"
     ]
    }
   ],
   "source": [
    "print(np.shape(X))"
   ]
  },
  {
   "cell_type": "code",
   "execution_count": 128,
   "metadata": {},
   "outputs": [
    {
     "data": {
      "text/html": [
       "<div>\n",
       "<style scoped>\n",
       "    .dataframe tbody tr th:only-of-type {\n",
       "        vertical-align: middle;\n",
       "    }\n",
       "\n",
       "    .dataframe tbody tr th {\n",
       "        vertical-align: top;\n",
       "    }\n",
       "\n",
       "    .dataframe thead th {\n",
       "        text-align: right;\n",
       "    }\n",
       "</style>\n",
       "<table border=\"1\" class=\"dataframe\">\n",
       "  <thead>\n",
       "    <tr style=\"text-align: right;\">\n",
       "      <th></th>\n",
       "      <th>size(in square feet)</th>\n",
       "      <th>number of bedrooms</th>\n",
       "      <th>price</th>\n",
       "    </tr>\n",
       "  </thead>\n",
       "  <tbody>\n",
       "    <tr>\n",
       "      <th>0</th>\n",
       "      <td>2104</td>\n",
       "      <td>3</td>\n",
       "      <td>399900</td>\n",
       "    </tr>\n",
       "    <tr>\n",
       "      <th>1</th>\n",
       "      <td>1600</td>\n",
       "      <td>3</td>\n",
       "      <td>329900</td>\n",
       "    </tr>\n",
       "    <tr>\n",
       "      <th>2</th>\n",
       "      <td>2400</td>\n",
       "      <td>3</td>\n",
       "      <td>369000</td>\n",
       "    </tr>\n",
       "    <tr>\n",
       "      <th>3</th>\n",
       "      <td>1416</td>\n",
       "      <td>2</td>\n",
       "      <td>232000</td>\n",
       "    </tr>\n",
       "    <tr>\n",
       "      <th>4</th>\n",
       "      <td>3000</td>\n",
       "      <td>4</td>\n",
       "      <td>539900</td>\n",
       "    </tr>\n",
       "  </tbody>\n",
       "</table>\n",
       "</div>"
      ],
      "text/plain": [
       "   size(in square feet)   number of bedrooms   price\n",
       "0                  2104                    3  399900\n",
       "1                  1600                    3  329900\n",
       "2                  2400                    3  369000\n",
       "3                  1416                    2  232000\n",
       "4                  3000                    4  539900"
      ]
     },
     "execution_count": 128,
     "metadata": {},
     "output_type": "execute_result"
    }
   ],
   "source": [
    "df = pd.read_csv('https://raw.githubusercontent.com/satishgunjal/datasets/master/multivariate_housing_prices_in_portlans_oregon.csv')\n",
    "df.head() # To get first n rows from the dataset default value of n is 5"
   ]
  },
  {
   "cell_type": "code",
   "execution_count": 129,
   "metadata": {},
   "outputs": [
    {
     "name": "stdout",
     "output_type": "stream",
     "text": [
      "Total no of training examples (m) = 47 \n",
      "\n",
      "x = [2104    3] , y = 399900\n",
      "x = [1600    3] , y = 329900\n",
      "x = [2400    3] , y = 369000\n",
      "x = [1416    2] , y = 232000\n",
      "x = [3000    4] , y = 539900\n"
     ]
    }
   ],
   "source": [
    "X = df.values[:, 0:2]  # get input values from first two columns\n",
    "y = df.values[:, 2]  # get output values from last coulmn\n",
    "m = len(y) # Number of training examples\n",
    "\n",
    "print('Total no of training examples (m) = %s \\n' %(m))\n",
    "\n",
    "# Show only first 5 records\n",
    "for i in range(5):\n",
    "    print('x =', X[i, ], ', y =', y[i])"
   ]
  },
  {
   "cell_type": "code",
   "execution_count": 130,
   "metadata": {},
   "outputs": [
    {
     "data": {
      "text/plain": [
       "47"
      ]
     },
     "execution_count": 130,
     "metadata": {},
     "output_type": "execute_result"
    }
   ],
   "source": [
    "m = len(y) # Number of training examples\n",
    "m"
   ]
  },
  {
   "cell_type": "code",
   "execution_count": 131,
   "metadata": {},
   "outputs": [],
   "source": [
    "def feature_normalize(X):\n",
    "  \"\"\"\n",
    "    Normalizes the features(input variables) in X.\n",
    "\n",
    "    Parameters\n",
    "    ----------\n",
    "    X : n dimensional array (matrix), shape (n_samples, n_features)\n",
    "        Features(input varibale) to be normalized.\n",
    "\n",
    "    Returns\n",
    "    -------\n",
    "    X_norm : n dimensional array (matrix), shape (n_samples, n_features)\n",
    "        A normalized version of X.\n",
    "    mu : n dimensional array (matrix), shape (n_features,)\n",
    "        The mean value.\n",
    "    sigma : n dimensional array (matrix), shape (n_features,)\n",
    "        The standard deviation.\n",
    "  \"\"\"\n",
    "  #Note here we need mean of indivdual column here, hence axis = 0\n",
    "  mu = np.mean(X, axis = 0)  \n",
    "  # Notice the parameter ddof (Delta Degrees of Freedom)  value is 1\n",
    "  sigma = np.std(X, axis= 0, ddof = 1)  # Standard deviation (can also use range)\n",
    "  X_norm = (X - mu)/sigma\n",
    "  return X_norm, mu, sigma"
   ]
  },
  {
   "cell_type": "code",
   "execution_count": 132,
   "metadata": {},
   "outputs": [
    {
     "name": "stdout",
     "output_type": "stream",
     "text": [
      "mu=  [2000.68085106    3.17021277]\n",
      "sigma=  [7.94702354e+02 7.60981887e-01]\n",
      "X_norm=  [[ 0.13000987 -0.22367519]\n",
      " [-0.50418984 -0.22367519]\n",
      " [ 0.50247636 -0.22367519]\n",
      " [-0.73572306 -1.53776691]\n",
      " [ 1.25747602  1.09041654]]\n"
     ]
    }
   ],
   "source": [
    "X, mu, sigma = feature_normalize(X)\n",
    "\n",
    "print('mu= ', mu)\n",
    "print('sigma= ', sigma)\n",
    "print('X_norm= ', X[:5])"
   ]
  },
  {
   "cell_type": "code",
   "execution_count": 133,
   "metadata": {},
   "outputs": [
    {
     "data": {
      "text/plain": [
       "array([3.77948264e-17, 2.74603035e-16])"
      ]
     },
     "execution_count": 133,
     "metadata": {},
     "output_type": "execute_result"
    }
   ],
   "source": [
    "mu_testing = np.mean(X, axis = 0) # mean\n",
    "mu_testing"
   ]
  },
  {
   "cell_type": "code",
   "execution_count": 134,
   "metadata": {},
   "outputs": [
    {
     "data": {
      "text/plain": [
       "array([1., 1.])"
      ]
     },
     "execution_count": 134,
     "metadata": {},
     "output_type": "execute_result"
    }
   ],
   "source": [
    "sigma_testing = np.std(X, axis = 0, ddof = 1) # mean\n",
    "sigma_testing"
   ]
  },
  {
   "cell_type": "code",
   "execution_count": 135,
   "metadata": {},
   "outputs": [
    {
     "data": {
      "text/plain": [
       "array([[ 1.        ,  0.13000987, -0.22367519],\n",
       "       [ 1.        , -0.50418984, -0.22367519],\n",
       "       [ 1.        ,  0.50247636, -0.22367519],\n",
       "       [ 1.        , -0.73572306, -1.53776691],\n",
       "       [ 1.        ,  1.25747602,  1.09041654]])"
      ]
     },
     "execution_count": 135,
     "metadata": {},
     "output_type": "execute_result"
    }
   ],
   "source": [
    "# Lets use hstack() function from numpy to add column of ones to X feature \n",
    "# This will be our final X matrix (feature matrix)\n",
    "X = np.hstack((np.ones((m,1)), X))\n",
    "X[:5]"
   ]
  },
  {
   "cell_type": "code",
   "execution_count": 136,
   "metadata": {},
   "outputs": [],
   "source": [
    "def compute_cost(X, y, theta):\n",
    "  \"\"\"\n",
    "  Compute the cost of a particular choice of theta for linear regression.\n",
    "\n",
    "  Input Parameters\n",
    "  ----------------\n",
    "  X : 2D array where each row represent the training example and each column represent the feature ndarray. Dimension(m x n)\n",
    "      m= number of training examples\n",
    "      n= number of features (including X_0 column of ones)\n",
    "  y : 1D array of labels/target value for each traing example. dimension(1 x m)\n",
    "\n",
    "  theta : 1D array of fitting parameters or weights. Dimension (1 x n)\n",
    "\n",
    "  Output Parameters\n",
    "  -----------------\n",
    "  J : Scalar value.\n",
    "  \"\"\"\n",
    "  predictions = X.dot(theta)\n",
    "  #print('predictions= ', predictions[:5])\n",
    "  errors = np.subtract(predictions, y)\n",
    "  #print('errors= ', errors[:5]) \n",
    "  sqrErrors = np.square(errors)\n",
    "  #print('sqrErrors= ', sqrErrors[:5]) \n",
    "  #J = 1 / (2 * m) * np.sum(sqrErrors)\n",
    "  # OR\n",
    "  # We can merge 'square' and 'sum' into one by taking the transpose of matrix 'errors' and taking dot product with itself\n",
    "  # If your confuse about this try to do this with few values for better understanding  \n",
    "  J = 1/(2 * m) * errors.T.dot(errors)\n",
    "\n",
    "  return J"
   ]
  },
  {
   "cell_type": "markdown",
   "metadata": {
    "id": "p5i1ErEEsxHy"
   },
   "source": [
    "Task 5: Gradient Descent."
   ]
  },
  {
   "cell_type": "code",
   "execution_count": 148,
   "metadata": {
    "id": "NIgSmFGUsvhu"
   },
   "outputs": [],
   "source": [
    "def gradient_descent(X, y, theta, alpha, iterations):\n",
    "  \"\"\"\n",
    "  Compute cost for linear regression.\n",
    "\n",
    "  Input Parameters\n",
    "  ----------------\n",
    "  X : 2D array where each row represent the training example and each column represent the feature ndarray. Dimension(m x n)\n",
    "      m= number of training examples\n",
    "      n= number of features (including X_0 column of ones)\n",
    "  y : 1D array of labels/target value for each traing example. dimension(m x 1)\n",
    "  theta : 1D array of fitting parameters or weights. Dimension (1 x n)\n",
    "  alpha : Learning rate. Scalar value\n",
    "  iterations: No of iterations. Scalar value. \n",
    "\n",
    "  Output Parameters\n",
    "  -----------------\n",
    "  theta : Final Value. 1D array of fitting parameters or weights. Dimension (1 x n)\n",
    "  cost_history: Conatins value of cost for each iteration. 1D array. Dimansion(m x 1)\n",
    "  \"\"\"\n",
    "  cost_history = np.zeros(iterations)\n",
    "\n",
    "  for i in range(iterations):\n",
    "    predictions = X.dot(theta)\n",
    "    #print('predictions= ', predictions[:5])\n",
    "    errors = np.subtract(predictions, y)\n",
    "    #print('errors= ', errors[:5])\n",
    "    sum_delta = (alpha / m) * X.transpose().dot(errors);\n",
    "    #print('sum_delta= ', sum_delta[:5])\n",
    "    theta = theta - sum_delta;\n",
    "\n",
    "    cost_history[i] = compute_cost(X, y, theta)  \n",
    "\n",
    "  return theta, cost_history"
   ]
  },
  {
   "cell_type": "code",
   "execution_count": 149,
   "metadata": {
    "colab": {
     "base_uri": "https://localhost:8080/"
    },
    "id": "mYuVurj0tGq3",
    "outputId": "1fb25afd-d48e-4aad-cead-a06a995199d9"
   },
   "outputs": [],
   "source": [
    "# We need theta parameter for every input variable. since we have three input variable including X_0 (column of ones)\n",
    "theta = np.zeros(3)\n",
    "iterations = 400;\n",
    "alpha = 0.15;"
   ]
  },
  {
   "cell_type": "code",
   "execution_count": 150,
   "metadata": {},
   "outputs": [
    {
     "name": "stdout",
     "output_type": "stream",
     "text": [
      "Final value of theta = [340412.65957447 110631.0502787   -6649.47427067]\n",
      "First 5 values from cost_history = [4.76541088e+10 3.48804679e+10 2.57542477e+10 1.92146908e+10\n",
      " 1.45159772e+10]\n",
      "Last 5 values from cost_history = [2.04328005e+09 2.04328005e+09 2.04328005e+09 2.04328005e+09\n",
      " 2.04328005e+09]\n"
     ]
    }
   ],
   "source": [
    "theta, cost_history = gradient_descent(X, y, theta, alpha, iterations)\n",
    "print('Final value of theta =', theta)\n",
    "print('First 5 values from cost_history =', cost_history[:5])\n",
    "print('Last 5 values from cost_history =', cost_history[-5 :])"
   ]
  },
  {
   "cell_type": "code",
   "execution_count": 140,
   "metadata": {},
   "outputs": [
    {
     "data": {
      "text/plain": [
       "Text(0.5, 1.0, 'Convergence of gradient descent')"
      ]
     },
     "execution_count": 140,
     "metadata": {},
     "output_type": "execute_result"
    },
    {
     "data": {
      "image/png": "[encoded data removed]",
      "text/plain": [
       "<Figure size 864x576 with 1 Axes>"
      ]
     },
     "metadata": {
      "needs_background": "light"
     },
     "output_type": "display_data"
    }
   ],
   "source": [
    "import matplotlib.pyplot as plt\n",
    "plt.plot(range(1, iterations +1), cost_history, color ='blue')\n",
    "plt.rcParams[\"figure.figsize\"] = (10,6)\n",
    "plt.grid()\n",
    "plt.xlabel(\"Number of iterations\")\n",
    "plt.ylabel(\"cost (J)\")\n",
    "plt.title(\"Convergence of gradient descent\")"
   ]
  },
  {
   "cell_type": "code",
   "execution_count": 141,
   "metadata": {},
   "outputs": [
    {
     "data": {
      "text/plain": [
       "<matplotlib.legend.Legend at 0x7fa41ca31810>"
      ]
     },
     "execution_count": 141,
     "metadata": {},
     "output_type": "execute_result"
    },
    {
     "data": {
      "image/png": "[encoded data removed]",
      "text/plain": [
       "<Figure size 720x432 with 1 Axes>"
      ]
     },
     "metadata": {
      "needs_background": "light"
     },
     "output_type": "display_data"
    }
   ],
   "source": [
    "iterations = 400;\n",
    "theta = np.zeros(3)\n",
    "\n",
    "alpha = 0.005;\n",
    "theta_1, cost_history_1 = gradient_descent(X, y, theta, alpha, iterations)\n",
    "\n",
    "alpha = 0.01;\n",
    "theta_2, cost_history_2 = gradient_descent(X, y, theta, alpha, iterations)\n",
    "\n",
    "alpha = 0.02;\n",
    "theta_3, cost_history_3 = gradient_descent(X, y, theta, alpha, iterations)\n",
    "\n",
    "alpha = 0.03;\n",
    "theta_4, cost_history_4 = gradient_descent(X, y, theta, alpha, iterations)\n",
    "\n",
    "alpha = 0.15;\n",
    "theta_5, cost_history_5 = gradient_descent(X, y, theta, alpha, iterations)\n",
    "\n",
    "plt.plot(range(1, iterations +1), cost_history_1, color ='purple', label = 'alpha = 0.005')\n",
    "plt.plot(range(1, iterations +1), cost_history_2, color ='red', label = 'alpha = 0.01')\n",
    "plt.plot(range(1, iterations +1), cost_history_3, color ='green', label = 'alpha = 0.02')\n",
    "plt.plot(range(1, iterations +1), cost_history_4, color ='yellow', label = 'alpha = 0.03')\n",
    "plt.plot(range(1, iterations +1), cost_history_5, color ='blue', label = 'alpha = 0.15')\n",
    "\n",
    "plt.rcParams[\"figure.figsize\"] = (10,6)\n",
    "plt.grid()\n",
    "plt.xlabel(\"Number of iterations\")\n",
    "plt.ylabel(\"cost (J)\")\n",
    "plt.title(\"Effect of Learning Rate On Convergence of Gradient Descent\")\n",
    "plt.legend()"
   ]
  },
  {
   "cell_type": "code",
   "execution_count": 142,
   "metadata": {},
   "outputs": [
    {
     "data": {
      "text/plain": [
       "Text(0.5, 1.0, 'Effect of Large Learning Rate On Convergence of Gradient Descent')"
      ]
     },
     "execution_count": 142,
     "metadata": {},
     "output_type": "execute_result"
    },
    {
     "data": {
      "image/png": "[encoded data removed]",
      "text/plain": [
       "<Figure size 720x432 with 1 Axes>"
      ]
     },
     "metadata": {
      "needs_background": "light"
     },
     "output_type": "display_data"
    }
   ],
   "source": [
    "iterations = 100;\n",
    "theta = np.zeros(3)\n",
    "\n",
    "alpha = 1.32;\n",
    "theta_6, cost_history_6 = gradient_descent(X, y, theta, alpha, iterations)\n",
    "\n",
    "plt.plot(range(1, iterations +1), cost_history_6, color ='brown')\n",
    "plt.rcParams[\"figure.figsize\"] = (10,6)\n",
    "plt.grid()\n",
    "plt.xlabel(\"Number of iterations\")\n",
    "plt.ylabel(\"cost (J)\")\n",
    "plt.title(\"Effect of Large Learning Rate On Convergence of Gradient Descent\")"
   ]
  },
  {
   "cell_type": "markdown",
   "metadata": {},
   "source": [
    "Testing the model\n"
   ]
  },
  {
   "cell_type": "code",
   "execution_count": 151,
   "metadata": {},
   "outputs": [
    {
     "name": "stdout",
     "output_type": "stream",
     "text": [
      "Predicted price of a 1650 sq-ft, 3 br house: 293081.46433492796\n"
     ]
    }
   ],
   "source": [
    "normalize_test_data = ((np.array([1650, 3]) - mu) / sigma)\n",
    "normalize_test_data = np.hstack((np.ones(1), normalize_test_data))\n",
    "price = normalize_test_data.dot(theta)\n",
    "print('Predicted price of a 1650 sq-ft, 3 br house:', price)"
   ]
  },
  {
   "cell_type": "code",
   "execution_count": 152,
   "metadata": {},
   "outputs": [
    {
     "data": {
      "text/plain": [
       "293081.46433492796"
      ]
     },
     "execution_count": 152,
     "metadata": {},
     "output_type": "execute_result"
    }
   ],
   "source": [
    "price"
   ]
  },
  {
   "cell_type": "code",
   "execution_count": null,
   "metadata": {},
   "outputs": [],
   "source": []
  }
 ],
 "metadata": {
  "colab": {
   "collapsed_sections": [],
   "name": "Lab1_Q1 (a).ipynb",
   "provenance": []
  },
  "kernelspec": {
   "display_name": "Python 3",
   "language": "python",
   "name": "python3"
  },
  "language_info": {
   "codemirror_mode": {
    "name": "ipython",
    "version": 3
   },
   "file_extension": ".py",
   "mimetype": "text/x-python",
   "name": "python",
   "nbconvert_exporter": "python",
   "pygments_lexer": "ipython3",
   "version": "3.7.6"
  }
 },
 "nbformat": 4,
 "nbformat_minor": 1
}
