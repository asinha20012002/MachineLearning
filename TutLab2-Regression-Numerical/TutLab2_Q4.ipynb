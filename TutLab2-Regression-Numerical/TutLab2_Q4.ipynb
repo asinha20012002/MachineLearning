{
 "cells": [
  {
   "cell_type": "markdown",
   "metadata": {
    "id": "V--UYIzoGfZs"
   },
   "source": [
    "#CS 403/603 Machine Learning \n",
    "#Lab: 08-01-2021\n",
    "##Closed form Linear Regression"
   ]
  },
  {
   "cell_type": "code",
   "execution_count": null,
   "metadata": {
    "id": "ePu1MRJ1GqDu"
   },
   "outputs": [],
   "source": [
    "import matplotlib.pyplot as plt \n",
    "plt.style.use('ggplot')\n",
    "%matplotlib inline"
   ]
  },
  {
   "cell_type": "code",
   "execution_count": null,
   "metadata": {
    "id": "m4G76fGnGtS2"
   },
   "outputs": [],
   "source": [
    "import numpy as np\n",
    "import pandas as pd  \n",
    "import seaborn as sns \n",
    "plt.rcParams['figure.figsize'] = (12, 8)\n",
    "\n",
    "from sklearn.datasets import make_regression"
   ]
  },
  {
   "cell_type": "markdown",
   "metadata": {
    "id": "POgRfZW1HSKJ"
   },
   "source": [
    "#Here number of feature is one\n",
    "Generating the Dataset"
   ]
  },
  {
   "cell_type": "code",
   "execution_count": null,
   "metadata": {
    "colab": {
     "base_uri": "https://localhost:8080/"
    },
    "id": "Evpq1e0CG9GW",
    "outputId": "30948e7b-e6e4-47f3-8268-3ed666afb61b"
   },
   "outputs": [
    {
     "name": "stdout",
     "output_type": "stream",
     "text": [
      "(500, 1)\n",
      "(500, 1)\n"
     ]
    }
   ],
   "source": [
    "X, Y = make_regression(n_samples=500, n_features=1,n_informative=1, noise=1.8, random_state=11)\n",
    "\n",
    "Y = Y.reshape((-1,1))\n",
    "print(X.shape)\n",
    "print(Y.shape)"
   ]
  },
  {
   "cell_type": "markdown",
   "metadata": {
    "id": "t8A-acuYMMCT"
   },
   "source": [
    "#Normalizing the Dataset (Question 3)"
   ]
  },
  {
   "cell_type": "code",
   "execution_count": null,
   "metadata": {
    "id": "187-afTfMPUE"
   },
   "outputs": [],
   "source": [
    "X = (X-X.mean())/X.std()"
   ]
  },
  {
   "cell_type": "markdown",
   "metadata": {
    "id": "bGXRxg2bMwHA"
   },
   "source": [
    "#Plotting the Dataset"
   ]
  },
  {
   "cell_type": "code",
   "execution_count": null,
   "metadata": {
    "colab": {
     "base_uri": "https://localhost:8080/",
     "height": 54
    },
    "id": "17HfPcXYHvHK",
    "outputId": "4f20c11d-33df-47f2-89d6-35178698c96b"
   },
   "outputs": [
    {
     "data": {
      "image/png": "[encoded data removed]",
      "text/plain": [
       "<Figure size 864x576 with 1 Axes>"
      ]
     },
     "metadata": {
      "needs_background": "light",
      "tags": []
     },
     "output_type": "display_data"
    }
   ],
   "source": [
    "plt.figure()\n",
    "plt.scatter(X,Y)\n",
    "plt.xlabel('X - input')\n",
    "plt.ylabel('Y - label')\n",
    "plt.title('Normalized Data')\n",
    "plt.plot(color='blue')\n",
    "plt.show()\n"
   ]
  },
  {
   "cell_type": "markdown",
   "metadata": {
    "id": "N-aLJJmNPYmW"
   },
   "source": [
    "Generating the Design matrix"
   ]
  },
  {
   "cell_type": "code",
   "execution_count": null,
   "metadata": {
    "colab": {
     "base_uri": "https://localhost:8080/"
    },
    "id": "BNFraw6IPeTp",
    "outputId": "fe56366d-ffb5-4685-9817-351ba6509bb8"
   },
   "outputs": [
    {
     "name": "stdout",
     "output_type": "stream",
     "text": [
      "(500, 2)\n",
      "[[ 1.79863075  1.        ]\n",
      " [-0.18894468  1.        ]\n",
      " [ 0.41231612  1.        ]\n",
      " [-0.50079422  1.        ]\n",
      " [-0.6621275   1.        ]\n",
      " [-2.06282096  1.        ]\n",
      " [-1.5905177   1.        ]\n",
      " [-0.30038338  1.        ]\n",
      " [-1.25796364  1.        ]\n",
      " [-0.27839213  1.        ]]\n"
     ]
    }
   ],
   "source": [
    "ones = np.ones((X.shape[0], 1))\n",
    "Design_X = np.hstack((X, ones))\n",
    "print(Design_X.shape)\n",
    "print(Design_X[:10, :])"
   ]
  },
  {
   "cell_type": "markdown",
   "metadata": {
    "id": "8RogM9w7RMfV"
   },
   "source": [
    "Loss function: Ypredict = X.Theta"
   ]
  },
  {
   "cell_type": "code",
   "execution_count": null,
   "metadata": {
    "id": "-F9JrZmpRYIn"
   },
   "outputs": [],
   "source": [
    "def Ypredict(X, theta):\n",
    "  return np.dot(X, theta)"
   ]
  },
  {
   "cell_type": "markdown",
   "metadata": {
    "id": "HY9IH8mDRsbj"
   },
   "source": [
    "#Closed Form\n",
    "Getting the theta"
   ]
  },
  {
   "cell_type": "code",
   "execution_count": null,
   "metadata": {
    "id": "tERq-BJiR2kO"
   },
   "outputs": [],
   "source": [
    "def closedfrom(X,Y):\n",
    "  Y = np.mat(Y)\n",
    "  theta_1 = np.dot(X.T, X)\n",
    "  theta_2 = np.dot(X.T, Y)\n",
    "\n",
    "  #If our matrix is not invertible we can use pseudo inverse.(Question 2)\n",
    "  theta = np.linalg.pinv(theta_1)* (theta_2)\n",
    "  return theta"
   ]
  },
  {
   "cell_type": "code",
   "execution_count": null,
   "metadata": {
    "colab": {
     "base_uri": "https://localhost:8080/"
    },
    "id": "g2S_SuaETD_0",
    "outputId": "9d4b3e53-15ba-45cd-c9e0-56c2a9cd8fe9"
   },
   "outputs": [
    {
     "name": "stdout",
     "output_type": "stream",
     "text": [
      "[[36.73665429]\n",
      " [-1.25302068]]\n"
     ]
    }
   ],
   "source": [
    "theta = closedfrom(Design_X, Y)\n",
    "print(theta)"
   ]
  },
  {
   "cell_type": "markdown",
   "metadata": {
    "id": "O4IsJD1QUC4j"
   },
   "source": [
    "#Plotting the regression line"
   ]
  },
  {
   "cell_type": "code",
   "execution_count": null,
   "metadata": {
    "colab": {
     "base_uri": "https://localhost:8080/",
     "height": 517
    },
    "id": "GmMf76sgUBtx",
    "outputId": "cdd44cdb-98b3-4585-b1c3-edddda445b4c"
   },
   "outputs": [
    {
     "data": {
      "image/png": "[encoded data removed]",
      "text/plain": [
       "<Figure size 864x576 with 1 Axes>"
      ]
     },
     "metadata": {
      "needs_background": "light",
      "tags": []
     },
     "output_type": "display_data"
    }
   ],
   "source": [
    "plt.figure()\n",
    "plt.scatter(X,Y)\n",
    "plt.xlabel('X - input')\n",
    "plt.ylabel('Y - label')\n",
    "plt.title('Regression Line')\n",
    "plt.plot(X, Ypredict(Design_X,theta),color='blue', label='predictin')\n",
    "plt.legend()\n",
    "plt.show()\n"
   ]
  },
  {
   "cell_type": "code",
   "execution_count": null,
   "metadata": {
    "id": "HCusTfdNX8hD"
   },
   "outputs": [],
   "source": [
    "from sklearn.metrics import r2_score, mean_absolute_error, mean_squared_error"
   ]
  },
  {
   "cell_type": "markdown",
   "metadata": {
    "id": "CheyKN4NZIcM"
   },
   "source": [
    "The r2_score function computes the coefficient of determination, usually denoted as R².\n",
    "\n",
    "It represents the proportion of variance (of y) that has been explained by the independent variables in the model. It provides an indication of goodness of fit and therefore a measure of how well unseen samples are likely to be predicted by the model, through the proportion of explained variance."
   ]
  },
  {
   "cell_type": "code",
   "execution_count": null,
   "metadata": {
    "colab": {
     "base_uri": "https://localhost:8080/"
    },
    "id": "32l8_R8tX-D6",
    "outputId": "6db8d03f-4771-4224-eac3-7960fd0b0f66"
   },
   "outputs": [
    {
     "name": "stdout",
     "output_type": "stream",
     "text": [
      "0.9978304573249959\n"
     ]
    }
   ],
   "source": [
    "_r2 = r2_score(Y, Ypredict(Design_X, theta))\n",
    "print(_r2)"
   ]
  }
 ],
 "metadata": {
  "colab": {
   "name": "La1_Q4(a and b).ipynb",
   "provenance": []
  },
  "kernelspec": {
   "display_name": "Python 3",
   "language": "python",
   "name": "python3"
  },
  "language_info": {
   "codemirror_mode": {
    "name": "ipython",
    "version": 3
   },
   "file_extension": ".py",
   "mimetype": "text/x-python",
   "name": "python",
   "nbconvert_exporter": "python",
   "pygments_lexer": "ipython3",
   "version": "3.7.6"
  }
 },
 "nbformat": 4,
 "nbformat_minor": 1
}
