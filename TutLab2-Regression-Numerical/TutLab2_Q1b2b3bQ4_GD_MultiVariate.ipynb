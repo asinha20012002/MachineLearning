{
 "cells": [
  {
   "cell_type": "code",
   "execution_count": 32,
   "metadata": {},
   "outputs": [
    {
     "name": "stdout",
     "output_type": "stream",
     "text": [
      "Iteration 0 | Cost: 255.551783\n",
      "Iteration 1 | Cost: 165.381927\n",
      "Iteration 2 | Cost: 125.306459\n",
      "Iteration 3 | Cost: 107.444110\n",
      "Iteration 4 | Cost: 99.431730\n",
      "Iteration 5 | Cost: 95.787236\n",
      "Iteration 6 | Cost: 94.079753\n",
      "Iteration 7 | Cost: 93.231380\n",
      "Iteration 8 | Cost: 92.764153\n",
      "Iteration 9 | Cost: 92.466131\n",
      "Iteration 10 | Cost: 92.243334\n",
      "Iteration 11 | Cost: 92.054091\n",
      "Iteration 12 | Cost: 91.879922\n",
      "Iteration 13 | Cost: 91.712632\n",
      "Iteration 14 | Cost: 91.548588\n",
      "Iteration 15 | Cost: 91.386178\n",
      "Iteration 16 | Cost: 91.224686\n",
      "Iteration 17 | Cost: 91.063796\n",
      "Iteration 18 | Cost: 90.903365\n",
      "Iteration 19 | Cost: 90.743331\n",
      "Iteration 20 | Cost: 90.583666\n",
      "Iteration 21 | Cost: 90.424356\n",
      "Iteration 22 | Cost: 90.265395\n",
      "Iteration 23 | Cost: 90.106781\n",
      "Iteration 24 | Cost: 89.948511\n",
      "Iteration 25 | Cost: 89.790584\n",
      "Iteration 26 | Cost: 89.632999\n",
      "Iteration 27 | Cost: 89.475755\n",
      "Iteration 28 | Cost: 89.318852\n",
      "Iteration 29 | Cost: 89.162289\n",
      "Iteration 30 | Cost: 89.006065\n",
      "Iteration 31 | Cost: 88.850179\n",
      "Iteration 32 | Cost: 88.694630\n",
      "Iteration 33 | Cost: 88.539419\n",
      "Iteration 34 | Cost: 88.384543\n",
      "Iteration 35 | Cost: 88.230003\n",
      "Iteration 36 | Cost: 88.075797\n",
      "Iteration 37 | Cost: 87.921926\n",
      "Iteration 38 | Cost: 87.768387\n",
      "Iteration 39 | Cost: 87.615181\n",
      "Iteration 40 | Cost: 87.462307\n",
      "Iteration 41 | Cost: 87.309764\n",
      "Iteration 42 | Cost: 87.157551\n",
      "Iteration 43 | Cost: 87.005667\n",
      "Iteration 44 | Cost: 86.854113\n",
      "Iteration 45 | Cost: 86.702886\n",
      "Iteration 46 | Cost: 86.551987\n",
      "Iteration 47 | Cost: 86.401415\n",
      "Iteration 48 | Cost: 86.251169\n",
      "Iteration 49 | Cost: 86.101248\n",
      "[1.16797361 1.257487   1.44710732]\n"
     ]
    }
   ],
   "source": [
    "import numpy as np\n",
    "import random\n",
    "\n",
    "# m denotes the number of examples here, not the number of features\n",
    "def gradientDescent(x, y, theta, alpha, m, numIterations):\n",
    "    cost_history = np.zeros(numIterations)\n",
    "    xTrans = x.transpose()\n",
    "    for i in range(0, numIterations):\n",
    "        hypothesis = np.dot(x, theta)\n",
    "        loss = hypothesis - y\n",
    "        # avg cost per example (the 2 in 2*m doesn't really matter here.\n",
    "        # But to be consistent with the gradient, I include it)\n",
    "        #cost = np.sum(loss ** 2) / (2 * m)\n",
    "        \n",
    "        cost_history[i] = np.sum(loss ** 2) / (2 * m)\n",
    "        print(\"Iteration %d | Cost: %f\" % (i, cost_history[i]))\n",
    "        # avg gradient per example\n",
    "        gradient = np.dot(xTrans, loss) / m\n",
    "        # update\n",
    "        theta = theta - alpha * gradient\n",
    "    return theta, cost_history\n",
    "\n",
    "\n",
    "def genData(numPoints, bias, variance):\n",
    "    x = np.zeros(shape=(numPoints, 3))\n",
    "    y = np.zeros(shape=numPoints)\n",
    "    # basically a straight line\n",
    "    for i in range(0, numPoints):\n",
    "        # bias feature\n",
    "        x[i][0] = 1\n",
    "        x[i][1] = i\n",
    "        x[i][2] = np.sqrt(i)\n",
    "        # our target variable\n",
    "        y[i] = (i + bias) + random.uniform(0, 1) * variance\n",
    "    return x, y\n",
    "\n",
    "# gen 100 points with a bias of 25 and 10 variance as a bit of noise\n",
    "x, y = genData(100, 25, 10)\n",
    "m, n = np.shape(x)\n",
    "alpha = 0.0005\n",
    "theta = np.ones(n)\n",
    "numIterations= 50\n",
    "cost_history = np.zeros(numIterations)\n",
    "theta, cost_history = gradientDescent(x, y, theta, alpha, m, numIterations)\n",
    "print(theta)"
   ]
  },
  {
   "cell_type": "code",
   "execution_count": 33,
   "metadata": {},
   "outputs": [
    {
     "data": {
      "text/plain": [
       "Text(0.5, 1.0, 'Convergence of gradient descent')"
      ]
     },
     "execution_count": 33,
     "metadata": {},
     "output_type": "execute_result"
    },
    {
     "data": {
      "image/png": "[encoded data removed]",
      "text/plain": [
       "<Figure size 720x432 with 1 Axes>"
      ]
     },
     "metadata": {
      "needs_background": "light"
     },
     "output_type": "display_data"
    }
   ],
   "source": [
    "import matplotlib.pyplot as plt\n",
    "plt.plot(range(1, numIterations +1), cost_history, color ='blue')\n",
    "plt.rcParams[\"figure.figsize\"] = (10,6)\n",
    "plt.grid()\n",
    "plt.xlabel(\"Number of iterations\")\n",
    "plt.ylabel(\"cost (J)\")\n",
    "plt.title(\"Convergence of gradient descent\")"
   ]
  },
  {
   "cell_type": "code",
   "execution_count": 34,
   "metadata": {},
   "outputs": [],
   "source": [
    "import numpy as np\n",
    "import random"
   ]
  },
  {
   "cell_type": "code",
   "execution_count": 35,
   "metadata": {},
   "outputs": [],
   "source": [
    "x, y = genData(10, 25, 10)"
   ]
  },
  {
   "cell_type": "code",
   "execution_count": 36,
   "metadata": {},
   "outputs": [
    {
     "data": {
      "text/plain": [
       "array([[1.        , 0.        , 0.        ],\n",
       "       [1.        , 1.        , 1.        ],\n",
       "       [1.        , 2.        , 1.41421356],\n",
       "       [1.        , 3.        , 1.73205081],\n",
       "       [1.        , 4.        , 2.        ],\n",
       "       [1.        , 5.        , 2.23606798],\n",
       "       [1.        , 6.        , 2.44948974],\n",
       "       [1.        , 7.        , 2.64575131],\n",
       "       [1.        , 8.        , 2.82842712],\n",
       "       [1.        , 9.        , 3.        ]])"
      ]
     },
     "execution_count": 36,
     "metadata": {},
     "output_type": "execute_result"
    }
   ],
   "source": [
    "x"
   ]
  },
  {
   "cell_type": "code",
   "execution_count": 37,
   "metadata": {},
   "outputs": [
    {
     "data": {
      "text/plain": [
       "array([25.5908956 , 30.32537072, 27.87445313, 35.45333506, 29.30960603,\n",
       "       34.03053011, 35.66129617, 37.23981614, 42.13204383, 38.48944163])"
      ]
     },
     "execution_count": 37,
     "metadata": {},
     "output_type": "execute_result"
    }
   ],
   "source": [
    "y"
   ]
  },
  {
   "cell_type": "code",
   "execution_count": 38,
   "metadata": {},
   "outputs": [],
   "source": [
    "def Ypredict(x, theta):\n",
    "  return np.dot(x, theta)"
   ]
  },
  {
   "cell_type": "code",
   "execution_count": 39,
   "metadata": {},
   "outputs": [
    {
     "data": {
      "text/plain": [
       "array([ 1.16797361,  3.87256793,  5.72946641,  7.44689801,  9.09213625,\n",
       "       10.69123895, 12.25757015, 13.7990687 , 15.32090721, 16.82667857])"
      ]
     },
     "execution_count": 39,
     "metadata": {},
     "output_type": "execute_result"
    }
   ],
   "source": [
    "y_predict =Ypredict(x,theta)\n",
    "y_predict"
   ]
  },
  {
   "cell_type": "code",
   "execution_count": 40,
   "metadata": {},
   "outputs": [
    {
     "data": {
      "text/plain": [
       "array([24.42292199, 26.45280279, 22.14498673, 28.00643705, 20.21746978,\n",
       "       23.33929116, 23.40372602, 23.44074744, 26.81113662, 21.66276305])"
      ]
     },
     "execution_count": 40,
     "metadata": {},
     "output_type": "execute_result"
    }
   ],
   "source": [
    "error = y-y_predict\n",
    "error"
   ]
  },
  {
   "cell_type": "code",
   "execution_count": null,
   "metadata": {},
   "outputs": [],
   "source": []
  }
 ],
 "metadata": {
  "kernelspec": {
   "display_name": "Python 3",
   "language": "python",
   "name": "python3"
  },
  "language_info": {
   "codemirror_mode": {
    "name": "ipython",
    "version": 3
   },
   "file_extension": ".py",
   "mimetype": "text/x-python",
   "name": "python",
   "nbconvert_exporter": "python",
   "pygments_lexer": "ipython3",
   "version": "3.7.6"
  }
 },
 "nbformat": 4,
 "nbformat_minor": 4
}
