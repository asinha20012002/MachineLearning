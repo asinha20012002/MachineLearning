{
 "cells": [
  {
   "cell_type": "markdown",
   "metadata": {
    "id": "xo43dMS1d9Ez"
   },
   "source": [
    "#CS 403/603 Machine Learning\n",
    "\n",
    "##Lab: 08-01-2021"
   ]
  },
  {
   "cell_type": "code",
   "execution_count": 1,
   "metadata": {
    "id": "iWb_1iJVeAX0"
   },
   "outputs": [],
   "source": [
    "import matplotlib.pyplot as plt \n",
    "plt.style.use('ggplot')\n",
    "%matplotlib inline"
   ]
  },
  {
   "cell_type": "code",
   "execution_count": 2,
   "metadata": {
    "id": "ftM8kr_neDpi"
   },
   "outputs": [],
   "source": [
    "import numpy as np\n",
    "import pandas as pd  \n",
    "import seaborn as sns \n",
    "plt.rcParams['figure.figsize'] = (12, 8)"
   ]
  },
  {
   "cell_type": "code",
   "execution_count": 37,
   "metadata": {
    "colab": {
     "base_uri": "https://localhost:8080/"
    },
    "id": "Nw8lYzabeHlf",
    "outputId": "4cc426b7-42c3-4d78-cbe0-00537d8d4808"
   },
   "outputs": [
    {
     "data": {
      "text/plain": [
       "array([[2104.,    5.,   10.],\n",
       "       [1416.,    3.,    6.],\n",
       "       [1534.,    3.,    6.]])"
      ]
     },
     "execution_count": 37,
     "metadata": {},
     "output_type": "execute_result"
    }
   ],
   "source": [
    "X = np.array([[2104, 5,10],[1416, 3,6],[1534, 3,6]], dtype=np.float64)\n",
    "X"
   ]
  },
  {
   "cell_type": "code",
   "execution_count": 38,
   "metadata": {
    "id": "m4iKT84teTTJ"
   },
   "outputs": [],
   "source": [
    "y = np.array([460, 232, 315], dtype=np.float64)\n",
    "y = y[:,np.newaxis]"
   ]
  },
  {
   "cell_type": "code",
   "execution_count": 41,
   "metadata": {
    "colab": {
     "base_uri": "https://localhost:8080/"
    },
    "id": "lTtKGDk-eYMx",
    "outputId": "d75fa4a6-5158-4f93-8c27-5cdea512abab"
   },
   "outputs": [
    {
     "data": {
      "text/plain": [
       "(3, 1)"
      ]
     },
     "execution_count": 41,
     "metadata": {},
     "output_type": "execute_result"
    }
   ],
   "source": [
    "y.shape"
   ]
  },
  {
   "cell_type": "code",
   "execution_count": 6,
   "metadata": {
    "colab": {
     "base_uri": "https://localhost:8080/"
    },
    "id": "P0SLQzy2ebsg",
    "outputId": "79baeac4-0ccd-4c7a-a238-9f4b76dbcc44"
   },
   "outputs": [
    {
     "name": "stdout",
     "output_type": "stream",
     "text": [
      "(3, 3)\n"
     ]
    }
   ],
   "source": [
    "print(np.shape(X))"
   ]
  },
  {
   "cell_type": "code",
   "execution_count": 39,
   "metadata": {
    "id": "iTiU9rgeehIl"
   },
   "outputs": [],
   "source": [
    "ones = np.ones((X.shape[0], 1))\n",
    "X = np.hstack((ones, X))"
   ]
  },
  {
   "cell_type": "code",
   "execution_count": 40,
   "metadata": {
    "colab": {
     "base_uri": "https://localhost:8080/"
    },
    "id": "KsN9YqfCfDxL",
    "outputId": "86746592-4ea2-4913-e8c3-a5e18cda1e92"
   },
   "outputs": [
    {
     "data": {
      "text/plain": [
       "array([[1.000e+00, 2.104e+03, 5.000e+00, 1.000e+01],\n",
       "       [1.000e+00, 1.416e+03, 3.000e+00, 6.000e+00],\n",
       "       [1.000e+00, 1.534e+03, 3.000e+00, 6.000e+00]])"
      ]
     },
     "execution_count": 40,
     "metadata": {},
     "output_type": "execute_result"
    }
   ],
   "source": [
    "X"
   ]
  },
  {
   "cell_type": "markdown",
   "metadata": {
    "id": "bnmewQ_CelAt"
   },
   "source": [
    "Ypredict = X.Theta\n",
    "\n",
    "\n"
   ]
  },
  {
   "cell_type": "code",
   "execution_count": 35,
   "metadata": {
    "id": "MzckUFyNemAM"
   },
   "outputs": [],
   "source": [
    "def Ypredict(X, theta):\n",
    "  return np.dot(X, theta)"
   ]
  },
  {
   "cell_type": "markdown",
   "metadata": {
    "id": "YrSmLRVnerm5"
   },
   "source": [
    "# Closed Form\n",
    "\n",
    "Getting the theta"
   ]
  },
  {
   "cell_type": "code",
   "execution_count": 36,
   "metadata": {
    "id": "9emaKfvzesjR"
   },
   "outputs": [],
   "source": [
    "def closedfrom(X,Y):\n",
    "  Y = np.mat(Y)\n",
    "  theta_1 = np.dot(X.T, X)\n",
    "  theta_2 = np.dot(X.T, Y)\n",
    "\n",
    "  #theta = np.linalg.inv(theta_1)* (theta_2)\n",
    "  theta = np.linalg.pinv(theta_1).dot(theta_2)\n",
    "  return theta"
   ]
  },
  {
   "cell_type": "code",
   "execution_count": 42,
   "metadata": {
    "colab": {
     "base_uri": "https://localhost:8080/"
    },
    "id": "ACLOTyove0dm",
    "outputId": "d0df74b8-2a3c-41d6-f06d-573012467ab1"
   },
   "outputs": [
    {
     "name": "stdout",
     "output_type": "stream",
     "text": [
      "[[-380.10169484]\n",
      " [   0.70338983]\n",
      " [ -25.59322033]\n",
      " [ -51.18644066]]\n"
     ]
    }
   ],
   "source": [
    "theta = closedfrom(X, y)\n",
    "print(theta)"
   ]
  },
  {
   "cell_type": "markdown",
   "metadata": {
    "id": "Ta8gD9TBfIkc"
   },
   "source": [
    "As we can see the result here: we can not the theta. In our Dataset two features are linearly dependent hence the design matrix becomes singular that is non invertible, so in this case we can use the concept of pseudo inverse."
   ]
  },
  {
   "cell_type": "code",
   "execution_count": 43,
   "metadata": {},
   "outputs": [],
   "source": [
    "y_predict =Ypredict(X,theta)"
   ]
  },
  {
   "cell_type": "code",
   "execution_count": 44,
   "metadata": {},
   "outputs": [
    {
     "data": {
      "text/plain": [
       "matrix([[ 2.30784281e-09],\n",
       "        [-9.34005584e-09],\n",
       "        [ 5.06997822e-09]])"
      ]
     },
     "execution_count": 44,
     "metadata": {},
     "output_type": "execute_result"
    }
   ],
   "source": [
    "error = y-y_predict\n",
    "error"
   ]
  },
  {
   "cell_type": "code",
   "execution_count": null,
   "metadata": {},
   "outputs": [],
   "source": []
  }
 ],
 "metadata": {
  "colab": {
   "name": "Lab1_Q2(a).ipynb",
   "provenance": []
  },
  "kernelspec": {
   "display_name": "Python 3",
   "language": "python",
   "name": "python3"
  },
  "language_info": {
   "codemirror_mode": {
    "name": "ipython",
    "version": 3
   },
   "file_extension": ".py",
   "mimetype": "text/x-python",
   "name": "python",
   "nbconvert_exporter": "python",
   "pygments_lexer": "ipython3",
   "version": "3.7.6"
  }
 },
 "nbformat": 4,
 "nbformat_minor": 1
}
