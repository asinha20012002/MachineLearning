{
 "cells": [
  {
   "cell_type": "markdown",
   "metadata": {
    "id": "iR3kIFpgK9SY"
   },
   "source": [
    "CS 403/ CS 603, Machine Learning\n"
   ]
  },
  {
   "cell_type": "markdown",
   "metadata": {
    "id": "PBg38YJcLJnw"
   },
   "source": [
    "Lab: 08-01-2021\n"
   ]
  },
  {
   "cell_type": "markdown",
   "metadata": {
    "id": "uNvwSpPILO8I"
   },
   "source": [
    "Closed form Linear Regression"
   ]
  },
  {
   "cell_type": "code",
   "execution_count": 1,
   "metadata": {
    "id": "pBQmS6GcLOAK"
   },
   "outputs": [],
   "source": [
    "import matplotlib.pyplot as plt \n",
    "plt.style.use('ggplot')\n",
    "%matplotlib inline"
   ]
  },
  {
   "cell_type": "code",
   "execution_count": 2,
   "metadata": {
    "id": "xn3QkhN4LYcP"
   },
   "outputs": [],
   "source": [
    "import numpy as np\n",
    "import pandas as pd  \n",
    "import seaborn as sns \n",
    "plt.rcParams['figure.figsize'] = (12, 8)"
   ]
  },
  {
   "cell_type": "code",
   "execution_count": 3,
   "metadata": {
    "id": "vQJFYW4UK_PC"
   },
   "outputs": [],
   "source": [
    "X = np.array([[2104, 5],[1416, 3],[1534, 3]], dtype=np.float64)"
   ]
  },
  {
   "cell_type": "code",
   "execution_count": 4,
   "metadata": {
    "id": "go-i1x7QNu96"
   },
   "outputs": [],
   "source": [
    "y = np.array([460, 232, 315], dtype=np.float64)"
   ]
  },
  {
   "cell_type": "code",
   "execution_count": 5,
   "metadata": {
    "id": "OfmUy-QfOSiP"
   },
   "outputs": [],
   "source": [
    "y = y[:,np.newaxis]"
   ]
  },
  {
   "cell_type": "code",
   "execution_count": 6,
   "metadata": {
    "colab": {
     "base_uri": "https://localhost:8080/"
    },
    "id": "wJFImSGxN1He",
    "outputId": "b25b7cd4-9ab3-4226-a29c-2f41a1ad86b0"
   },
   "outputs": [
    {
     "data": {
      "text/plain": [
       "(3, 1)"
      ]
     },
     "execution_count": 6,
     "metadata": {},
     "output_type": "execute_result"
    }
   ],
   "source": [
    "y.shape"
   ]
  },
  {
   "cell_type": "code",
   "execution_count": 7,
   "metadata": {
    "colab": {
     "base_uri": "https://localhost:8080/"
    },
    "id": "1VvDPB8MLr-3",
    "outputId": "7f453d6f-eb96-45c0-d040-c0838f1c1ac5"
   },
   "outputs": [
    {
     "name": "stdout",
     "output_type": "stream",
     "text": [
      "(3, 2)\n"
     ]
    }
   ],
   "source": [
    "print(np.shape(X))"
   ]
  },
  {
   "cell_type": "code",
   "execution_count": 8,
   "metadata": {
    "colab": {
     "base_uri": "https://localhost:8080/"
    },
    "id": "JHJhIs1bMhoV",
    "outputId": "9e8fe71a-fd96-45e9-faf5-184438d9d481"
   },
   "outputs": [
    {
     "data": {
      "text/plain": [
       "array([[2104.,    5.],\n",
       "       [1416.,    3.],\n",
       "       [1534.,    3.]])"
      ]
     },
     "execution_count": 8,
     "metadata": {},
     "output_type": "execute_result"
    }
   ],
   "source": [
    "X"
   ]
  },
  {
   "cell_type": "code",
   "execution_count": 9,
   "metadata": {
    "id": "wvOJJ-UcMqGv"
   },
   "outputs": [],
   "source": [
    "ones = np.ones((X.shape[0], 1))\n",
    "X = np.hstack((ones, X))"
   ]
  },
  {
   "cell_type": "code",
   "execution_count": 10,
   "metadata": {
    "colab": {
     "base_uri": "https://localhost:8080/"
    },
    "id": "aBvL8AzDNCdj",
    "outputId": "5d2a9dbf-2cbb-48bd-a941-a15632720898"
   },
   "outputs": [
    {
     "name": "stdout",
     "output_type": "stream",
     "text": [
      "(3, 3)\n"
     ]
    },
    {
     "data": {
      "text/plain": [
       "array([[1.000e+00, 2.104e+03, 5.000e+00],\n",
       "       [1.000e+00, 1.416e+03, 3.000e+00],\n",
       "       [1.000e+00, 1.534e+03, 3.000e+00]])"
      ]
     },
     "execution_count": 10,
     "metadata": {},
     "output_type": "execute_result"
    }
   ],
   "source": [
    "print(X.shape)\n",
    "X"
   ]
  },
  {
   "cell_type": "markdown",
   "metadata": {
    "id": "gXYwvNjvSZDz"
   },
   "source": [
    "Ypredict = X.Theta"
   ]
  },
  {
   "cell_type": "code",
   "execution_count": 11,
   "metadata": {
    "id": "3kDS-S9GSYY-"
   },
   "outputs": [],
   "source": [
    "def Ypredict(X, theta):\n",
    "  return np.dot(X, theta)"
   ]
  },
  {
   "cell_type": "markdown",
   "metadata": {
    "id": "Ulp2P50INb9o"
   },
   "source": [
    "# Closed Form\n",
    "\n",
    "Getting the theta"
   ]
  },
  {
   "cell_type": "code",
   "execution_count": 27,
   "metadata": {
    "id": "n8NG5tynNiT_"
   },
   "outputs": [],
   "source": [
    "def closedfrom(X,Y):\n",
    "  Y = np.mat(Y)\n",
    "  theta_1 = np.dot(X.T, X)\n",
    "  theta_2 = np.dot(X.T, y)\n",
    "\n",
    "  #If our matrix is not invertible we can use pseudo inverse.(Question 2)\n",
    "  theta = np.linalg.pinv(theta_1).dot(theta_2)\n",
    "  return theta"
   ]
  },
  {
   "cell_type": "code",
   "execution_count": 28,
   "metadata": {
    "colab": {
     "base_uri": "https://localhost:8080/"
    },
    "id": "OIGcYzfjNm6l",
    "outputId": "cef52149-f7e6-485f-cdd4-10a6bb7af0b0"
   },
   "outputs": [
    {
     "name": "stdout",
     "output_type": "stream",
     "text": [
      "[[-380.10169491]\n",
      " [   0.70338983]\n",
      " [-127.96610169]]\n"
     ]
    }
   ],
   "source": [
    "theta = closedfrom(X, y)\n",
    "print(theta)"
   ]
  },
  {
   "cell_type": "code",
   "execution_count": 36,
   "metadata": {
    "colab": {
     "base_uri": "https://localhost:8080/"
    },
    "id": "qr6c6b-GaVRW",
    "outputId": "64813036-60b2-4f92-bc44-2c1b1d5beeae"
   },
   "outputs": [
    {
     "data": {
      "text/plain": [
       "array([[460.],\n",
       "       [232.],\n",
       "       [315.]])"
      ]
     },
     "execution_count": 36,
     "metadata": {},
     "output_type": "execute_result"
    }
   ],
   "source": [
    "y_predict =Ypredict(X,theta)\n",
    "y_predict"
   ]
  },
  {
   "cell_type": "code",
   "execution_count": 37,
   "metadata": {},
   "outputs": [
    {
     "data": {
      "text/plain": [
       "array([[ 2.94221536e-10],\n",
       "       [-5.01586328e-10],\n",
       "       [ 9.09494702e-11]])"
      ]
     },
     "execution_count": 37,
     "metadata": {},
     "output_type": "execute_result"
    }
   ],
   "source": [
    "error = y-y_predict\n",
    "error"
   ]
  },
  {
   "cell_type": "code",
   "execution_count": null,
   "metadata": {},
   "outputs": [],
   "source": []
  }
 ],
 "metadata": {
  "colab": {
   "collapsed_sections": [],
   "name": "Lab1_Q1 (a).ipynb",
   "provenance": []
  },
  "kernelspec": {
   "display_name": "Python 3",
   "language": "python",
   "name": "python3"
  },
  "language_info": {
   "codemirror_mode": {
    "name": "ipython",
    "version": 3
   },
   "file_extension": ".py",
   "mimetype": "text/x-python",
   "name": "python",
   "nbconvert_exporter": "python",
   "pygments_lexer": "ipython3",
   "version": "3.7.6"
  }
 },
 "nbformat": 4,
 "nbformat_minor": 1
}
