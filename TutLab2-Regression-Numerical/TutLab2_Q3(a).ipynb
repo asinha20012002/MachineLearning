{
 "cells": [
  {
   "cell_type": "markdown",
   "metadata": {
    "id": "HEURV1t9hSJG"
   },
   "source": [
    "#CS 403/603 Machine Learning\n",
    "\n",
    "##Lab: 08-01-2021"
   ]
  },
  {
   "cell_type": "code",
   "execution_count": 1,
   "metadata": {
    "id": "rae4MnDThWr2"
   },
   "outputs": [],
   "source": [
    "import matplotlib.pyplot as plt \n",
    "plt.style.use('ggplot')\n",
    "%matplotlib inline"
   ]
  },
  {
   "cell_type": "code",
   "execution_count": 2,
   "metadata": {
    "id": "Ogvv97tQhX20"
   },
   "outputs": [],
   "source": [
    "import numpy as np\n",
    "import pandas as pd  \n",
    "import seaborn as sns \n",
    "plt.rcParams['figure.figsize'] = (12, 8)"
   ]
  },
  {
   "cell_type": "code",
   "execution_count": 3,
   "metadata": {
    "colab": {
     "base_uri": "https://localhost:8080/"
    },
    "id": "Zd7tqylehcR1",
    "outputId": "c07e06cc-699a-4805-8bbf-837b5fd92439"
   },
   "outputs": [
    {
     "data": {
      "text/plain": [
       "array([[2104,    5],\n",
       "       [1416,    3],\n",
       "       [1534,    3]])"
      ]
     },
     "execution_count": 3,
     "metadata": {},
     "output_type": "execute_result"
    }
   ],
   "source": [
    "X = np.array([[2104, 5],[1416, 3],[1534, 3]])\n",
    "X"
   ]
  },
  {
   "cell_type": "markdown",
   "metadata": {
    "id": "ZjIPOccYh_Qm"
   },
   "source": [
    "#Normalizing the Dataset"
   ]
  },
  {
   "cell_type": "code",
   "execution_count": 4,
   "metadata": {
    "colab": {
     "base_uri": "https://localhost:8080/"
    },
    "id": "scVZByGTiBT9",
    "outputId": "e1df134c-402a-4a0b-ab3a-07e04e1103ea"
   },
   "outputs": [
    {
     "data": {
      "text/plain": [
       "array([[ 1.45321856, -0.96797929],\n",
       "       [ 0.65961012, -0.97028629],\n",
       "       [ 0.7957232 , -0.97028629]])"
      ]
     },
     "execution_count": 4,
     "metadata": {},
     "output_type": "execute_result"
    }
   ],
   "source": [
    "X = (X-X.mean())/X.std()\n",
    "X"
   ]
  },
  {
   "cell_type": "code",
   "execution_count": 5,
   "metadata": {
    "id": "IEXpoEoKhe6q"
   },
   "outputs": [],
   "source": [
    "y = np.array([460, 232, 315])\n",
    "Y = y[:,np.newaxis]"
   ]
  },
  {
   "cell_type": "code",
   "execution_count": 6,
   "metadata": {
    "colab": {
     "base_uri": "https://localhost:8080/"
    },
    "id": "ZMCh3xxZhhRo",
    "outputId": "dc83fc74-69b0-4266-c4ba-60f419a38c6c"
   },
   "outputs": [
    {
     "data": {
      "text/plain": [
       "(3, 1)"
      ]
     },
     "execution_count": 6,
     "metadata": {},
     "output_type": "execute_result"
    }
   ],
   "source": [
    "Y.shape"
   ]
  },
  {
   "cell_type": "code",
   "execution_count": 7,
   "metadata": {
    "colab": {
     "base_uri": "https://localhost:8080/"
    },
    "id": "yi3j-qPPirQS",
    "outputId": "0a18930e-f936-43b3-89c3-629bb8002d68"
   },
   "outputs": [
    {
     "name": "stdout",
     "output_type": "stream",
     "text": [
      "(3, 2)\n"
     ]
    }
   ],
   "source": [
    "print(np.shape(X))"
   ]
  },
  {
   "cell_type": "code",
   "execution_count": 8,
   "metadata": {
    "id": "til_R-RHit19"
   },
   "outputs": [],
   "source": [
    "ones = np.ones((X.shape[0], 1))\n",
    "Design_X = np.hstack((ones, X))"
   ]
  },
  {
   "cell_type": "code",
   "execution_count": 9,
   "metadata": {
    "colab": {
     "base_uri": "https://localhost:8080/"
    },
    "id": "nl8ALraAiwix",
    "outputId": "26de58d9-199a-487e-bd31-25309f148a62"
   },
   "outputs": [
    {
     "data": {
      "text/plain": [
       "array([[ 1.        ,  1.45321856, -0.96797929],\n",
       "       [ 1.        ,  0.65961012, -0.97028629],\n",
       "       [ 1.        ,  0.7957232 , -0.97028629]])"
      ]
     },
     "execution_count": 9,
     "metadata": {},
     "output_type": "execute_result"
    }
   ],
   "source": [
    "Design_X"
   ]
  },
  {
   "cell_type": "markdown",
   "metadata": {
    "id": "ZVSKOvUMhuV2"
   },
   "source": [
    "Ypredict = X.Theta\n"
   ]
  },
  {
   "cell_type": "code",
   "execution_count": 10,
   "metadata": {
    "id": "Qsza5OpohvZH"
   },
   "outputs": [],
   "source": [
    "def Ypredict(X, theta):\n",
    "  return np.dot(X, theta)"
   ]
  },
  {
   "cell_type": "markdown",
   "metadata": {
    "id": "IR-RmnoKibIT"
   },
   "source": [
    "# Closed Form\n",
    "\n",
    "Getting the theta"
   ]
  },
  {
   "cell_type": "code",
   "execution_count": 11,
   "metadata": {
    "id": "K3Bshh8KicSU"
   },
   "outputs": [],
   "source": [
    "def closedfrom(X,Y):\n",
    "  Y = np.mat(Y)\n",
    "  theta_1 = np.dot(X.T, X)\n",
    "  theta_2 = np.dot(X.T, Y)\n",
    "\n",
    "  #theta = np.linalg.inv(theta_1)* (theta_2)\n",
    "  theta = np.linalg.pinv(theta_1)* (theta_2)\n",
    "  return theta"
   ]
  },
  {
   "cell_type": "code",
   "execution_count": 12,
   "metadata": {
    "colab": {
     "base_uri": "https://localhost:8080/"
    },
    "id": "CwNqPqhVikBk",
    "outputId": "14401fca-f977-4302-b7c2-b313acc0fad8"
   },
   "outputs": [
    {
     "name": "stdout",
     "output_type": "stream",
     "text": [
      "[[-107811.04149714]\n",
      " [    609.78711622]\n",
      " [-110937.17439822]]\n"
     ]
    }
   ],
   "source": [
    "theta = closedfrom(Design_X, Y)\n",
    "print(theta)\n"
   ]
  },
  {
   "cell_type": "code",
   "execution_count": 14,
   "metadata": {},
   "outputs": [],
   "source": [
    "y_predict =Ypredict(Design_X,theta)"
   ]
  },
  {
   "cell_type": "code",
   "execution_count": 19,
   "metadata": {},
   "outputs": [
    {
     "data": {
      "text/plain": [
       "matrix([[3.18325760e-07],\n",
       "        [3.95555389e-07],\n",
       "        [1.64069093e-07]])"
      ]
     },
     "execution_count": 19,
     "metadata": {},
     "output_type": "execute_result"
    }
   ],
   "source": [
    "error = Y-y_predict\n",
    "error"
   ]
  },
  {
   "cell_type": "code",
   "execution_count": 20,
   "metadata": {},
   "outputs": [
    {
     "data": {
      "text/plain": [
       "(3, 1)"
      ]
     },
     "execution_count": 20,
     "metadata": {},
     "output_type": "execute_result"
    }
   ],
   "source": [
    "theta.shape"
   ]
  },
  {
   "cell_type": "code",
   "execution_count": 21,
   "metadata": {},
   "outputs": [
    {
     "data": {
      "text/plain": [
       "(3, 1)"
      ]
     },
     "execution_count": 21,
     "metadata": {},
     "output_type": "execute_result"
    }
   ],
   "source": [
    "y_predict.shape"
   ]
  },
  {
   "cell_type": "code",
   "execution_count": null,
   "metadata": {},
   "outputs": [],
   "source": []
  }
 ],
 "metadata": {
  "colab": {
   "name": "Lab1_Q3(a and b).ipynb",
   "provenance": []
  },
  "kernelspec": {
   "display_name": "Python 3",
   "language": "python",
   "name": "python3"
  },
  "language_info": {
   "codemirror_mode": {
    "name": "ipython",
    "version": 3
   },
   "file_extension": ".py",
   "mimetype": "text/x-python",
   "name": "python",
   "nbconvert_exporter": "python",
   "pygments_lexer": "ipython3",
   "version": "3.7.6"
  }
 },
 "nbformat": 4,
 "nbformat_minor": 1
}
